{
 "cells": [
  {
   "cell_type": "code",
   "execution_count": 1,
   "metadata": {},
   "outputs": [],
   "source": [
    "# Definition for singly-linked list.\n",
    "class ListNode:\n",
    "    def __init__(self, val=0, next=None):\n",
    "        self.val = val\n",
    "        self.next = next\n",
    "\n",
    "class Solution:\n",
    "    def addTwoNumbers(self, l1: [ListNode], l2: [ListNode]):\n",
    "        dummy = ListNode(0)\n",
    "        current = dummy\n",
    "        carry = 0\n",
    "\n",
    "        while l1 or l2 or carry:\n",
    "            sum = carry\n",
    "\n",
    "            if l1:\n",
    "                sum += l1.val\n",
    "                l1 = l1.next\n",
    "            if l2:\n",
    "                sum += l2.val\n",
    "                l2 = l2.next\n",
    "\n",
    "            carry = sum // 10\n",
    "            sum = sum % 10\n",
    "            current.next = ListNode(sum)\n",
    "            current = current.next\n",
    "\n",
    "        return dummy.next"
   ]
  },
  {
   "cell_type": "code",
   "execution_count": 2,
   "metadata": {},
   "outputs": [
    {
     "name": "stdout",
     "output_type": "stream",
     "text": [
      "7\n",
      "0\n",
      "8\n"
     ]
    }
   ],
   "source": [
    "test =  Solution()\n",
    "l1 = ListNode(2)\n",
    "l1.next = ListNode(4)\n",
    "l1.next.next = ListNode(3)\n",
    "\n",
    "l2 = ListNode(5)\n",
    "l2.next = ListNode(6)\n",
    "l2.next.next = ListNode(4)\n",
    "\n",
    "result = test.addTwoNumbers(l1, l2)\n",
    "\n",
    "while result:\n",
    "    print(result.val)\n",
    "    result = result.next\n",
    "\n",
    "# Output: 7 -> 0 -> 8\n",
    "# Explanation: 342 + 465 = 807.\n",
    "\n",
    "# Time complexity: O(max(m, n))\n",
    "# Space complexity: O(max(m, n))"
   ]
  },
  {
   "cell_type": "markdown",
   "metadata": {},
   "source": [
    "# Intuition\n",
    "<!-- Describe your first thoughts on how to solve this problem. -->\n",
    "\n",
    "# Approach\n",
    "<!-- Describe your approach to solving the problem. -->\n",
    "\n",
    "# Complexity\n",
    "- Time complexity:\n",
    "<!-- Add your time complexity here, e.g. $$O(n)$$ -->\n",
    "\n",
    "- Space complexity:\n",
    "<!-- Add your space complexity here, e.g. $$O(n)$$ -->"
   ]
  },
  {
   "cell_type": "markdown",
   "metadata": {},
   "source": [
    "___"
   ]
  },
  {
   "cell_type": "code",
   "execution_count": 1,
   "metadata": {},
   "outputs": [
    {
     "name": "stdout",
     "output_type": "stream",
     "text": [
      "aaabcbc\n"
     ]
    }
   ],
   "source": [
    "class Solution:\n",
    "    def decodeString(self, s: str) -> str:\n",
    "        stack = []\n",
    "        for char in s:\n",
    "            if char != ']':\n",
    "                stack.append(char)\n",
    "            else:\n",
    "                current = ''\n",
    "                while stack:\n",
    "                    val = stack.pop()\n",
    "                    if val == '[':\n",
    "                        break\n",
    "                    current = val + current\n",
    "                num = ''\n",
    "                while stack and stack[-1].isdigit():\n",
    "                    num = stack.pop() + num\n",
    "                stack.append(int(num) * current)\n",
    "        return ''.join(stack)\n",
    "\n",
    "test = Solution()\n",
    "s = \"3[a]2[bc]\"\n",
    "print(test.decodeString(s)) # Output: \"aaabcbc\"\n"
   ]
  },
  {
   "cell_type": "markdown",
   "metadata": {},
   "source": []
  }
 ],
 "metadata": {
  "language_info": {
   "name": "python"
  }
 },
 "nbformat": 4,
 "nbformat_minor": 2
}
